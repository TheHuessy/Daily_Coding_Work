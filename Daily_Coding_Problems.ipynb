{
 "cells": [
  {
   "cell_type": "markdown",
   "metadata": {},
   "source": [
    "### 96 [DONE]\n",
    "\n",
    "Given a number in the form of a list of digits, return all possible permutations.\n",
    "\n",
    "For example, given [1,2,3], return [[1,2,3],[1,3,2],[2,1,3],[2,3,1],[3,1,2],[3,2,1]]"
   ]
  },
  {
   "cell_type": "code",
   "execution_count": null,
   "metadata": {},
   "outputs": [],
   "source": [
    "## DONE ##\n",
    "\n",
    "import itertools\n",
    "\n",
    "given = [1,2,3]\n",
    "given2 =[7,9,2,10,24]\n",
    "\n",
    "def poss_perms(given):\n",
    "    perms = itertools.permutations(given, len(given))\n",
    "    ret = []\n",
    "    for i in perms:\n",
    "        ret += [i]\n",
    "    return(ret)\n",
    "\n",
    "#poss_perms(given=given)\n",
    "poss_perms(given=given2)\n",
    "\n"
   ]
  },
  {
   "cell_type": "markdown",
   "metadata": {},
   "source": [
    "### 102 [DONE]\n",
    "\n",
    "Given a list of integers and a number K, return which contiguous elements of the list sum to K.\n",
    "\n",
    "For example, if the list is `[1, 2, 3, 4, 5]` and K is 9, then it should return `[2, 3, 4]`, since 2 + 3 + 4 = 9."
   ]
  },
  {
   "cell_type": "code",
   "execution_count": null,
   "metadata": {},
   "outputs": [],
   "source": [
    "## DONE ##\n",
    "\n",
    "intl = [1,2,3,4,5,6,1,2,2,1]\n",
    "\n",
    "k = 6\n",
    "\n",
    "def int_finder(int_list,k):\n",
    "    ret = []\n",
    "    for i in range(len(int_list)):\n",
    "        for t in range(len(int_list)):\n",
    "            if t<i:\n",
    "                continue\n",
    "            chk = int_list[i:t+1]\n",
    "            schk = sum(chk)\n",
    "            if schk == k:\n",
    "                if len(chk) > 1:\n",
    "                    ret += [chk]\n",
    "    return(ret)\n",
    "                \n",
    "            \n",
    "            \n",
    "            \n",
    "int_finder(intl, k)"
   ]
  },
  {
   "cell_type": "markdown",
   "metadata": {},
   "source": [
    "### 100 [DONE]\n",
    "\n",
    "You are in an infinite 2D grid where you can move in any of the 8 directions:\n",
    "\n",
    "``` (x,y) to\n",
    "    (x+1, y),\n",
    "    (x - 1, y),\n",
    "    (x, y+1),\n",
    "    (x, y-1),\n",
    "    (x-1, y-1),\n",
    "    (x+1,y+1),\n",
    "    (x-1,y+1),\n",
    "    (x+1,y-1) ```\n",
    "\n",
    "You are given a sequence of points and the order in which you need to cover the points. Give the minimum number of steps in which you can achieve it. You start from the first point.\n",
    "\n",
    "Example:\n",
    "\n",
    "```Input: [(0, 0), (1, 1), (1, 2)]\n",
    "Output: 2```\n",
    "\n",
    "It takes 1 step to move from (0, 0) to (1, 1). It takes one more step to move from (1, 1) to (1, 2).\n"
   ]
  },
  {
   "cell_type": "code",
   "execution_count": null,
   "metadata": {},
   "outputs": [],
   "source": [
    "## DONE ##\n",
    "\n",
    "in1 = [(0,0), (1,1), (1,2)]\n",
    "in2 = [(0,0), (1,1), (1,2), (3,5)]\n",
    "\n",
    "## Iterate through each item in the input list by 1, applying movement logic and assessing how many \"steps\"\n",
    "## are needed to get from one iteration to another\n",
    "\n",
    "def iter_steps(inp):\n",
    "    cnt = 0\n",
    "    for i in range(len(inp)-1):\n",
    "        x1 = inp[i][0]\n",
    "        y1 = inp[i][1]\n",
    "        \n",
    "        ## Now get to x2 and y2 and count how many \"steps\" it took\n",
    "        try:\n",
    "            x2 = inp[i+1][0]\n",
    "            y2 = inp[i+1][1]\n",
    "        except:\n",
    "            continue\n",
    "        else:\n",
    "            d_x = x2-x1\n",
    "            d_y = y2-y1\n",
    "            \n",
    "            if (d_x == -1 and d_y == -1) or (d_x == -1 and d_y == 0) or (d_x == -1 and d_y == 1) or (d_x == 0 and d_y == -1) or (d_x == 0 and d_y == 0) or (d_x == 0 and d_y == 1) or (d_x == 1 and d_y == -1) or (d_x == 1 and d_y == 0) or (d_x == 1 and d_y == 1):\n",
    "                cnt = cnt+1\n",
    "            else:\n",
    "                if d_x > d_y:\n",
    "                    cnt = cnt+d_x\n",
    "                elif d_y > d_x:\n",
    "                    cnt = cnt+d_y\n",
    "    return(cnt)\n",
    "            \n",
    "            \n",
    "        \n",
    "iter_steps(in1)\n"
   ]
  },
  {
   "cell_type": "markdown",
   "metadata": {},
   "source": [
    "### 103 [DONE]\n",
    "\n",
    "Given a string and a set of characters, return the shortest substring containing all the characters in the set.\n",
    "\n",
    "For example, given the string `\"figehaeci\"` and the set of characters `{a, e, i}`, you should return `\"aeci\"`.\n",
    "\n",
    "If there is no substring containing all the characters in the set, return null."
   ]
  },
  {
   "cell_type": "code",
   "execution_count": null,
   "metadata": {},
   "outputs": [],
   "source": [
    "## DONE ##\n",
    "\n",
    "import re\n",
    "\n",
    "st1 = \"figehaeci\"\n",
    "chars = [\"a\", \"e\", \"i\"]\n",
    "\n",
    "st2 = \"iwjfllskwdfgldkw\"\n",
    "chars2 = [\"s\",\"f\",\"w\"]\n",
    "\n",
    "\n",
    "\n",
    "def find_letters(string, chars):            \n",
    "    sl = []            \n",
    "    for i in chars:\n",
    "        for t in range(len(string)):        \n",
    "            if string[t] == i:\n",
    "                if sl:\n",
    "                    if t < max(sl):\n",
    "                        continue\n",
    "            \n",
    "                sl += [t]                \n",
    "                break\n",
    "    return(string[min(sl):max(sl)+1])\n",
    "\n",
    "find_letters(st2, chars2)\n",
    "    \n"
   ]
  },
  {
   "cell_type": "markdown",
   "metadata": {},
   "source": [
    "### 104 [DONE]\n",
    "\n",
    "Determine whether a doubly linked list is a palindrome. What if it’s singly linked?\n",
    "\n",
    "For example, `1 -> 4 -> 3 -> 4 -> 1` returns `True` while `1 -> 4` returns `False`."
   ]
  },
  {
   "cell_type": "code",
   "execution_count": null,
   "metadata": {},
   "outputs": [],
   "source": [
    "## DONE ##\n",
    "\n",
    "e1 = \"1 -> 4 -> 3 -> 4 -> 1\"\n",
    "e2 = \"1 -> 4\"\n",
    "e3 = \"1 -> 4 -> 3 -> 5 -> 4 -> 1\"\n",
    "e4 = \"1 -> 4 -> 8 -> 8 -> 4 -> 1\"\n",
    "\n",
    "\n",
    "def palindrome(linked_list):\n",
    "    bad = False   \n",
    "    setlist = linked_list.split(' -> ')\n",
    "    st_idx = 0\n",
    "    en_idx = len(setlist)-1\n",
    "\n",
    "    while st_idx <= en_idx:\n",
    "        chk_sum1 = setlist[st_idx]\n",
    "        chk_sum2 = setlist[en_idx]\n",
    "        if chk_sum1 == chk_sum2:            \n",
    "            st_idx = st_idx+1\n",
    "            en_idx = en_idx-1\n",
    "        else:            \n",
    "            bad = True\n",
    "            break\n",
    "    if bad:\n",
    "        return(False)\n",
    "    else:\n",
    "        return(True)\n",
    "\n",
    "\n",
    "    \n",
    "print(palindrome(e1))\n",
    "print(palindrome(e2))\n",
    "print(palindrome(e3))\n",
    "print(palindrome(e4))\n",
    "   "
   ]
  },
  {
   "cell_type": "markdown",
   "metadata": {},
   "source": [
    "### 109 [DONE]\n",
    "\n",
    "Given an unsigned 8-bit integer, swap its even and odd bits. The 1st and 2nd bit should be swapped, the 3rd and 4th bit should be swapped, and so on.\n",
    "\n",
    "For example, `10101010` should be `01010101`. `11100010` should be `11010001`.\n",
    "\n",
    "Bonus: Can you do this in one line?"
   ]
  },
  {
   "cell_type": "code",
   "execution_count": null,
   "metadata": {},
   "outputs": [],
   "source": [
    "## DONE ##\n",
    "\n",
    "in1 = 10101010\n",
    "in2 = 11100010\n",
    "in3 = 10010101\n",
    "\n",
    "\n",
    "def DCP(integer):\n",
    "    inp = list(str(integer))\n",
    "    outp = list(str(99999999))\n",
    "    if len(inp) != 8:\n",
    "        print(\"This is not an 8-bit integer\")\n",
    "        return(None)\n",
    "    outp[0] = inp[1]    \n",
    "    outp[1] = inp[0]\n",
    "    outp[2] = inp[3]\n",
    "    outp[3] = inp[2]\n",
    "    outp[4] = inp[5]\n",
    "    outp[5] = inp[4]\n",
    "    outp[6] = inp[7]\n",
    "    outp[7] = inp[6]\n",
    "    outp = \"\".join(outp)\n",
    "    return(outp)\n",
    "\n",
    "DCP(in3)\n",
    "    \n",
    "    \n",
    "    \n",
    "    \n"
   ]
  },
  {
   "cell_type": "markdown",
   "metadata": {},
   "source": [
    "### 106 [DONE]\n",
    "\n",
    "Given an integer list where each number represents the number of hops you can make, determine whether you can reach to the last index starting at index 0.\n",
    "\n",
    "For example, `[2, 0, 1, 0]` returns True while `[1, 1, 0, 1]` returns `False`"
   ]
  },
  {
   "cell_type": "code",
   "execution_count": null,
   "metadata": {},
   "outputs": [],
   "source": [
    "## DONE ##\n",
    "\n",
    "il1 = [2,0,1,0]\n",
    "il2 = [1,1,0,1]\n",
    "il3 = [2,3,1,1,2,6,0] #intentionally works\n",
    "il4 = [2,3,4,3,0,1,9] #intentionally works\n",
    "il5 = [2,1] #intentionally doesn't work\n",
    "il6 = [1,9,3] #intentionally doesn't work\n",
    "\n",
    "\n",
    "def int_hop(inputlist):\n",
    "    end_idx = len(inputlist)-1\n",
    "    mv_idx = 0\n",
    "    while mv_idx < end_idx:\n",
    "        mv_idx_val = inputlist[mv_idx]\n",
    "        mv_idx = mv_idx + mv_idx_val\n",
    "        if mv_idx > end_idx:\n",
    "            return(False)\n",
    "        elif mv_idx_val == 0:\n",
    "            return(False)\n",
    "        elif mv_idx == end_idx:\n",
    "            return(True)\n",
    "        \n",
    "int_hop(il5)\n"
   ]
  },
  {
   "cell_type": "markdown",
   "metadata": {},
   "source": [
    "### 26 [DONE]\n",
    "\n",
    "Given a singly linked `list` and an integer `k`, remove the `k`th last element from the `list`. `k` is guaranteed to be smaller than the length of the list.\n",
    "\n",
    "The list is very long, so making more than one pass is prohibitively expensive.\n",
    "\n",
    "Do this in constant space and in one pass."
   ]
  },
  {
   "cell_type": "code",
   "execution_count": null,
   "metadata": {},
   "outputs": [],
   "source": [
    "## DONE ##\n",
    "\n",
    "from random import randint\n",
    "\n",
    "lls = [1,2,3,4,5,6,7]\n",
    "lcs = [\"1\", \"2\", \"3\", \"4\", \"5\", \"6\", \"7\"]\n",
    "\n",
    "kl = randint(a=0, b=len(lls)-1)\n",
    "kc = randint(a=0, b=len(lcs)-1)\n",
    "\n",
    "def list_kill(input_list, k):\n",
    "    del input_list[k]\n",
    "    return(input_list)\n",
    "\n",
    "print(lls)\n",
    "print(list_kill(lls, kl))\n",
    "print(lcs)\n",
    "print(list_kill(lcs, kc))\n",
    "\n"
   ]
  },
  {
   "cell_type": "markdown",
   "metadata": {},
   "source": [
    "### 27\n",
    "\n",
    "Given a string of round, curly, and square open and closing brackets, return whether the brackets are balanced (well-formed).\n",
    "\n",
    "For example, given the string `\"([])[]({})\"`, you should return true.\n",
    "\n",
    "Given the string `\"([)]\"` or `\"((()\"`, you should return false."
   ]
  },
  {
   "cell_type": "code",
   "execution_count": null,
   "metadata": {},
   "outputs": [],
   "source": [
    "## Working... ##\n",
    "\n",
    "import re\n",
    "\n",
    "e1 = \"([])[]({})\"\n",
    "e2 = \"([)]\"\n",
    "e3 = \"((()\"\n",
    "\n",
    "## What is considered the 'correct' pattern for correctly inputted/balanced punctuation vs not?\n",
    "## [?] Establish a table of beginning and end characters like so:\n",
    "key_tbl = {\"(\": \")\",\n",
    "          \"[\": \"]\",\n",
    "          \")\": \"(\",\n",
    "          \"]\": \"[\",\n",
    "          \"{\": \"}\",\n",
    "          \"}\": \"{\"\n",
    "          }\n",
    "## Also want to define an opener vs a closer\n",
    "oc_tbl = {\"Open\": [\"(\", \"[\", \"{\"],\n",
    "         \"Closed\": [\")\", \"]\", \"}\"]\n",
    "         }\n",
    "\n",
    "## e2 shows us we can't just count the number of open characters and compare it to the number of closed characters\n",
    "## (That would have been too easy)\n",
    "\n",
    "op = []\n",
    "en = []\n",
    "clo = []\n",
    "\n",
    "for i,v in enumerate(e1):\n",
    "    if v in oc_tbl['Open']:\n",
    "        #open_l = True\n",
    "        op += [v]\n",
    "        #while open_l:\n",
    "        print(\"Open: {}\".format(v))\n",
    "        #print(\"Unless the next one is open, expecting next value to be: {}\".format(key_tbl[v]))\n",
    "        op += [v]\n",
    "        trans = [key_tbl[v]]\n",
    "        trans += en\n",
    "        en = trans\n",
    "        \n",
    "    if v in oc_tbl['Closed']:\n",
    "        print(\"Closed: {}\".format(v))\n",
    "        print(\"Unless the next one is closed, expecting previous value to be: {}\".format(key_tbl[v]))\n",
    "        clo += [v]\n",
    "\n",
    "print(\"===========\")\n",
    "print(e1)        \n",
    "print(\"===========\")\n",
    "print(op)\n",
    "print(en)\n",
    "print('--------------')\n",
    "print(en[::-1])\n",
    "print(clo[::-1])\n",
    "\n",
    "## if clo == en[::-1], then good?\n",
    "## Nope, you need to set up to evaluate on the fly\n",
    "### It should look for congruent opens and closeds: Once the pattern changes to closed, evaluate if it is the closed\n",
    "### value fot the last open. At that point it has to be. Go from there looking forward one for the opposite value and so on\n"
   ]
  },
  {
   "cell_type": "markdown",
   "metadata": {},
   "source": [
    "### 107\n",
    "\n",
    "Print the nodes in a binary tree level-wise. For example, the following should print `1, 2, 3, 4, 5`.\n",
    "\n",
    "`` `1\n",
    " / \\ \n",
    "2   3\n",
    "   / \\\n",
    "  4   5`\n"
   ]
  },
  {
   "cell_type": "code",
   "execution_count": null,
   "metadata": {},
   "outputs": [],
   "source": []
  },
  {
   "cell_type": "markdown",
   "metadata": {},
   "source": [
    "### 108 [DONE]\n",
    "\n",
    "Given two strings `A` and `B`, return whether or not `A` can be shifted some number of times to get `B`.\n",
    "\n",
    "For example, if `A` is `abcde` and `B` is `cdeab`, return `true`. If `A` is `abc` and B is `acb`, return `false`."
   ]
  },
  {
   "cell_type": "code",
   "execution_count": null,
   "metadata": {},
   "outputs": [],
   "source": [
    "## DONE ##\n",
    "\n",
    "A = 'abcde'\n",
    "B = 'cdeab'\n",
    "\n",
    "A2 = 'abc'\n",
    "B2 = 'acb'\n",
    "\n",
    "def shift_check(string_A, string_B):\n",
    "    rearp = [x for x in range(len(string_A))]\n",
    "    cnt = 0\n",
    "    while cnt <= len(string_A):\n",
    "        T = \"\"\n",
    "\n",
    "        trans = rearp[-1]\n",
    "    \n",
    "        rearp.remove(rearp[-1])\n",
    "    \n",
    "        rearp.insert(0, trans)\n",
    "\n",
    "        for i in rearp:\n",
    "            T = T+string_A[i]\n",
    "\n",
    "        if T == string_B:\n",
    "            return(True)\n",
    "        cnt = cnt+1\n",
    "    if cnt > len(string_A):\n",
    "        return(False)\n",
    "        \n",
    "print(shift_check(string_A=A, string_B=B))\n",
    "print(shift_check(string_A=A2, string_B=B2))\n",
    "\n",
    "    \n",
    "    "
   ]
  },
  {
   "cell_type": "markdown",
   "metadata": {},
   "source": [
    "### 28\n",
    "\n",
    "Write an algorithm to justify text. Given a sequence of words and an integer line length `k`, return a list of strings which represents each line, fully justified.\n",
    "\n",
    "More specifically, you should have as many words as possible in each line. There should be at least one space between each word. Pad extra spaces when necessary so that each line has exactly length `k`. Spaces should be distributed as equally as possible, with the extra spaces, if any, distributed starting from the left.\n",
    "\n",
    "If you can only fit one word on a line, then you should pad the right-hand side with spaces.\n",
    "\n",
    "Each word is guaranteed not to be longer than `k`.\n",
    "\n",
    "For example, given the list of words `[\"the\", \"quick\", \"brown\", \"fox\", \"jumps\", \"over\", \"the\", \"lazy\", \"dog\"]` and `k` = 16, you should return the following:\n",
    "\n",
    "`[\"the  quick brown\", # 1 extra space on the left\n",
    "\"fox  jumps  over\", # 2 extra spaces distributed evenly\n",
    "\"the   lazy   dog\"] # 4 extra spaces distributed evenly`\n"
   ]
  },
  {
   "cell_type": "code",
   "execution_count": null,
   "metadata": {},
   "outputs": [],
   "source": []
  },
  {
   "cell_type": "markdown",
   "metadata": {},
   "source": [
    "### 31 [DONE]\n",
    "\n",
    "The edit distance between two strings refers to the minimum number of character insertions, deletions, and substitutions required to change one string to the other. For example, the edit distance between `“kitten”` and `“sitting”` is three: substitute the “k” for “s”, substitute the “e” for “i”, and append a “g”.\n",
    "\n",
    "Given two strings, compute the edit distance between them."
   ]
  },
  {
   "cell_type": "code",
   "execution_count": null,
   "metadata": {},
   "outputs": [],
   "source": [
    "## DONE ##\n",
    "\n",
    "s1 = \"kitten\"\n",
    "s2 = \"sitting\"\n",
    "\n",
    "\n",
    "def edit_dist(string_1, string_2):\n",
    "    match = []\n",
    "    over = []\n",
    "    \n",
    "    for i in enumerate(string_1):\n",
    "        try:\n",
    "            string_2[i[0]]\n",
    "        except:\n",
    "            over += [i[0]]\n",
    "            #continue\n",
    "        else:\n",
    "            if string_1[i[0]] == string_2[i[0]]:\n",
    "                match += [i[0]]\n",
    "\n",
    "    return(len(string_2)-len(match)+len(over))\n",
    "\n",
    "edit_dist(s1, s2)\n",
    "\n"
   ]
  },
  {
   "cell_type": "markdown",
   "metadata": {},
   "source": [
    "## 32\n",
    "\n",
    "Suppose you are given a table of currency exchange rates, represented as a 2D array. Determine whether there is a possible arbitrage: that is, whether there is some sequence of trades you can make, starting with some amount A of any currency, so that you can end up with some amount greater than A of that currency.\n",
    "\n",
    "There are no transaction costs and you can trade fractional quantities."
   ]
  },
  {
   "cell_type": "code",
   "execution_count": null,
   "metadata": {},
   "outputs": [],
   "source": []
  },
  {
   "cell_type": "markdown",
   "metadata": {},
   "source": [
    "### 33 [DONE]\n",
    "\n",
    "Compute the running median of a sequence of numbers. That is, given a stream of numbers, print out the median of the list so far on each new element.\n",
    "\n",
    "Recall that the median of an even-numbered list is the average of the two middle numbers.\n",
    "\n",
    "For example, given the sequence `[2, 1, 5, 7, 2, 0, 5]`, your algorithm should print out:\n",
    "\n",
    "`2\n",
    "1.5\n",
    "2\n",
    "3.5\n",
    "2\n",
    "2\n",
    "2`\n"
   ]
  },
  {
   "cell_type": "code",
   "execution_count": null,
   "metadata": {},
   "outputs": [],
   "source": [
    "## DONE ##\n",
    "\n",
    "from statistics import median\n",
    "import random\n",
    "\n",
    "# Given Example\n",
    "a = [2,1,5,7,2,0,5]\n",
    "\n",
    "# Randomly Generating a Second Test List\n",
    "seed = random.randint(1,20)\n",
    "b = random.choices(range(10), k=seed)\n",
    "\n",
    "\n",
    "def run_med(input_list):\n",
    "    for it in range(1,len(input_list)+1):\n",
    "        x = input_list[:it]\n",
    "        x.sort()\n",
    "        if len(x) == 2:\n",
    "            x1 = x[0]\n",
    "            x2 = x[1]        \n",
    "            print((x1+x2)/2)\n",
    "        elif len(x) % 2 == 0:        \n",
    "            x1 = x[int(len(x)/2)-1]\n",
    "            x2 = x[int((len(x)/2))]\n",
    "            print((x1+x2)/2)\n",
    "        else:\n",
    "            x1 = x[int(len(x)/2)]\n",
    "            print(x1)\n",
    "run_med(a)\n",
    "print(\"Testing for 'b': {}\".format(b))\n",
    "run_med(b)"
   ]
  },
  {
   "cell_type": "markdown",
   "metadata": {},
   "source": [
    "### 34\n",
    "\n",
    "Given a string, find the palindrome that can be made by inserting the fewest number of characters as possible anywhere in the word. If there is more than one palindrome of minimum length that can be made, return the lexicographically earliest one (the first one alphabetically).\n",
    "\n",
    "For example, given the string \"race\", you should return \"ecarace\", since we can add three letters to it (which is the smallest amount to make a palindrome). There are seven other palindromes that can be made from \"race\" by adding three letters, but \"ecarace\" comes first alphabetically.\n",
    "\n",
    "As another example, given the string \"google\", you should return \"elgoogle\"."
   ]
  },
  {
   "cell_type": "code",
   "execution_count": null,
   "metadata": {},
   "outputs": [],
   "source": []
  },
  {
   "cell_type": "markdown",
   "metadata": {},
   "source": [
    "### 35 [DONE]\n",
    "\n",
    "Given an array of strictly the characters `'R'`, `'G'`, and `'B'`, segregate the values of the array so that all the `R`s come first, the `G`s come second, and the Bs come last. You can only swap elements of the array.\n",
    "\n",
    "Do this in linear time and in-place.\n",
    "\n",
    "For example, given the array `['G', 'B', 'R', 'R', 'B', 'R', 'G']`, it should become `['R', 'R', 'R', 'G', 'G', 'B', 'B']`."
   ]
  },
  {
   "cell_type": "code",
   "execution_count": null,
   "metadata": {},
   "outputs": [],
   "source": [
    "## DONE ##\n",
    "\n",
    "import random\n",
    "\n",
    "key_num = random.randint(1,10)\n",
    "key_ls = ['G', 'R', 'B']\n",
    "\n",
    "s2 = random.choices(key_ls, k=key_num)\n",
    "\n",
    "s1 = ['G', 'B', 'R', 'R', 'B', 'R', 'G']\n",
    "\n",
    "def RGB(input_string):\n",
    "    f = sorted(input_string, reverse=True)\n",
    "    return(f)\n",
    "\n",
    "\n",
    "\n",
    "\n",
    "print(\"Given list\\n{}\".format(s1))\n",
    "print(\"Ordered version:\\n{}\".format(RGB(s1)))\n",
    "\n",
    "print(\"Randomly generated test list\\n{}\".format(s2))\n",
    "print(\"Ordered version:\\n{}\".format(RGB(s2)))\n",
    "\n",
    "\n"
   ]
  },
  {
   "cell_type": "markdown",
   "metadata": {},
   "source": [
    "### 36\n",
    "\n",
    "Given the root to a binary search tree, find the second largest node in the tree."
   ]
  },
  {
   "cell_type": "code",
   "execution_count": null,
   "metadata": {},
   "outputs": [],
   "source": []
  },
  {
   "cell_type": "markdown",
   "metadata": {},
   "source": [
    "### 37\n",
    "\n",
    "The power set of a set is the set of all its subsets. Write a function that, given a set, generates its power set.\n",
    "\n",
    "For example, given the set `{1, 2, 3}`, it should return `{{}, {1}, {2}, {3}, {1, 2}, {1, 3}, {2, 3}, {1, 2, 3}}`.\n",
    "\n",
    "You may also use a list or array to represent a set."
   ]
  },
  {
   "cell_type": "code",
   "execution_count": null,
   "metadata": {},
   "outputs": [],
   "source": [
    "## Working ##\n",
    "\n",
    "from itertools import permutations\n",
    "\n",
    "\n",
    "a = [1,2,3]\n",
    "\n",
    "#print(list(permutations(a)))\n",
    "\n",
    "ret_val = []\n",
    "for i in range(len(a)+1):\n",
    "    \n",
    "    print(a[i])\n",
    "    print([a[0:i]])\n",
    "    print(\"========\") \n",
    "    \n",
    "    ## Phase null: blank index\n",
    "    ## Phase 0: each single value\n",
    "    ## Phase 1: each unique value pair\n",
    "    ## Phase n: each unique value collection\n",
    "    ## nested loops seems to be the easiest way to do this"
   ]
  },
  {
   "cell_type": "markdown",
   "metadata": {},
   "source": [
    "### 38\n",
    "\n",
    "You have an `N` by `N` board. Write a function that, given `N`, returns the number of possible arrangements of the board where `N` queens can be placed on the board without threatening each other, i.e. no two queens share the same row, column, or diagonal."
   ]
  },
  {
   "cell_type": "code",
   "execution_count": null,
   "metadata": {},
   "outputs": [],
   "source": []
  },
  {
   "cell_type": "markdown",
   "metadata": {},
   "source": [
    "### 39\n",
    "\n",
    "Conway's Game of Life takes place on an infinite two-dimensional board of square cells. Each cell is either dead or alive, and at each tick, the following rules apply:\n",
    "\n",
    "    Any live cell with less than two live neighbours dies.\n",
    "    Any live cell with two or three live neighbours remains living.\n",
    "    Any live cell with more than three live neighbours dies.\n",
    "    Any dead cell with exactly three live neighbours becomes a live cell.\n",
    "\n",
    "A cell neighbours another cell if it is horizontally, vertically, or diagonally adjacent.\n",
    "\n",
    "Implement Conway's Game of Life. It should be able to be initialized with a starting list of live cell coordinates and the number of steps it should run for. Once initialized, it should print out the board state at each step. Since it's an infinite board, print out only the relevant coordinates, i.e. from the top-leftmost live cell to bottom-rightmost live cell.\n",
    "\n",
    "You can represent a live cell with an asterisk (`*`) and a dead cell with a dot (`.`)."
   ]
  },
  {
   "cell_type": "code",
   "execution_count": null,
   "metadata": {},
   "outputs": [],
   "source": []
  },
  {
   "cell_type": "markdown",
   "metadata": {},
   "source": [
    "### 40\n",
    "\n",
    "Given an array of integers where every integer occurs three times except for one integer, which only occurs once, find and return the non-duplicated integer.\n",
    "\n",
    "For example, given `[6, 1, 3, 3, 3, 6, 6]`, return `1`. Given `[13, 19, 13, 13]`, return 19.\n",
    "\n",
    "Do this in O(N) time and O(1) space. (https://rob-bell.net/2009/06/a-beginners-guide-to-big-o-notation/)"
   ]
  },
  {
   "cell_type": "code",
   "execution_count": null,
   "metadata": {},
   "outputs": [],
   "source": [
    "give = [6, 1, 3, 3, 3, 6, 6]\n",
    "give2 = [13, 19, 13, 13]\n",
    "\n",
    "\n"
   ]
  },
  {
   "cell_type": "markdown",
   "metadata": {},
   "source": [
    "### 41\n",
    "\n",
    "Given an unordered list of flights taken by someone, each represented as (origin, destination) pairs, and a starting airport, compute the person's itinerary. If no such itinerary exists, return null. If there are multiple possible itineraries, return the lexicographically smallest one. All flights must be used in the itinerary.\n",
    "\n",
    "For example, given the list of flights `[('SFO', 'HKO'), ('YYZ', 'SFO'), ('YUL', 'YYZ'), ('HKO', 'ORD')]` and starting airport 'YUL', you should return the list `['YUL', 'YYZ', 'SFO', 'HKO', 'ORD']`.\n",
    "\n",
    "Given the list of flights `[('SFO', 'COM'), ('COM', 'YYZ')]` and starting airport `'COM'`, you should return null.\n",
    "\n",
    "Given the list of flights `[('A', 'B'), ('A', 'C'), ('B', 'C'), ('C', 'A')]` and starting airport `'A'`, you should return the list `['A', 'B', 'C', 'A', 'C']` even though `['A', 'C', 'A', 'B', 'C']` is also a valid itinerary. However, the first one is lexicographically smaller."
   ]
  },
  {
   "cell_type": "code",
   "execution_count": null,
   "metadata": {},
   "outputs": [],
   "source": []
  },
  {
   "cell_type": "markdown",
   "metadata": {},
   "source": [
    "### 111\n",
    "\n",
    "Given a word `W` and a string `S`, find all starting indices in `S` which are anagrams of `W`.\n",
    "\n",
    "For example, given that `W` is `\"ab\"`, and `S` is `\"abxaba\"`, return `0`, `3`, and `4`."
   ]
  },
  {
   "cell_type": "code",
   "execution_count": null,
   "metadata": {},
   "outputs": [],
   "source": []
  },
  {
   "cell_type": "markdown",
   "metadata": {},
   "source": [
    "### 114\n",
    "\n",
    "Given a string and a set of delimiters, reverse the words in the string while maintaining the relative order of the delimiters. For example, given `\"hello/world:here\"`, return `\"here/world:hello\"`\n",
    "\n",
    "Follow-up: Does your solution work for the following cases: `\"hello/world:here/\"`, `\"hello//world:here\"`"
   ]
  },
  {
   "cell_type": "code",
   "execution_count": 60,
   "metadata": {},
   "outputs": [
    {
     "name": "stdout",
     "output_type": "stream",
     "text": [
      "<_sre.SRE_Match object; span=(5, 6), match='/'>\n",
      "['hello', '/', 'world', ':', 'here', '/', '']\n"
     ]
    }
   ],
   "source": [
    "## Working ##\n",
    "\n",
    "import re\n",
    "\n",
    "s1 = \"hello/world:here\"\n",
    "s2 = \"hello/world:here/\"\n",
    "s3 = \"hello//world:here\"\n",
    "\n",
    "\n",
    "#wrds = re.split(pattern='(/{0,}|:||)', string=s2)\n",
    "wrds = re.split(pattern='(/{1,}|:|;|\\|)', string=s2)\n",
    "print(re.search(pattern='\\W', string=s3))\n",
    "\n",
    "\n",
    "#print(wrds)\n",
    "#print(wrds[::-1])\n",
    "#wrds = ''.join(wrds)\n",
    "#print(wrds)\n",
    "\n",
    "\n",
    "dlms = re.split(pattern='\\W', string=s3)\n",
    "\n",
    "d = re.sub(pattern='\\W', repl=',', string=s2)\n",
    "#print(d)\n",
    "d = d.split(',')\n",
    "d.sort(reverse=True)\n",
    "d = '{}'.join(d)\n",
    "#print(d.format())\n",
    "\n",
    "#print(dlms)\n",
    "\n",
    "#re.sub(pattern='[a-z]', repl='', string=s1)"
   ]
  },
  {
   "cell_type": "markdown",
   "metadata": {},
   "source": [
    "### 115\n",
    "\n",
    "Given two non-empty binary trees `s` and `t`, check whether tree `t` has exactly the same structure and node values with a subtree of `s`. A subtree of `s` is a tree consists of a node in `s` and all of this node's descendants. The tree `s` could also be considered as a subtree of itself."
   ]
  },
  {
   "cell_type": "code",
   "execution_count": null,
   "metadata": {},
   "outputs": [],
   "source": []
  },
  {
   "cell_type": "markdown",
   "metadata": {},
   "source": [
    "### 117\n",
    "\n",
    "Given a binary tree, return the level of the tree with minimum sum."
   ]
  },
  {
   "cell_type": "code",
   "execution_count": null,
   "metadata": {},
   "outputs": [],
   "source": []
  },
  {
   "cell_type": "markdown",
   "metadata": {},
   "source": [
    "### 118 [DONE]\n",
    "\n",
    "Given a sorted list of integers, square the elements and give the output in sorted order.\n",
    "\n",
    "For example, given `[-9, -2, 0, 2, 3]`, return `[0, 4, 4, 9, 81]`."
   ]
  },
  {
   "cell_type": "code",
   "execution_count": null,
   "metadata": {},
   "outputs": [],
   "source": [
    "## DONE ##\n",
    "\n",
    "import random\n",
    "\n",
    "ex1 = [-9, -2, 0, 2, 3]\n",
    "\n",
    "# Randomly Generating a Second Test List\n",
    "seed = random.randint(1,10)\n",
    "ex2 = random.choices(range(-15,15), k=seed)\n",
    "\n",
    "def square_list(input_list):\n",
    "    res = [i**2 for i in input_list]\n",
    "    res.sort()\n",
    "    return(res)\n",
    "\n",
    "square_list(ex1)\n",
    "square_list(ex2)\n",
    "    "
   ]
  },
  {
   "cell_type": "markdown",
   "metadata": {},
   "source": [
    "### 119\n",
    "\n",
    "Given a set of closed intervals, find the smallest set of numbers that covers all the intervals. If there are multiple smallest sets, return any of them.\n",
    "\n",
    "For example, given the intervals `[0, 3]`, `[2, 6]`, `[3, 4]`, `[6, 9]`, one set of numbers that covers all these intervals is `{3, 6}`."
   ]
  },
  {
   "cell_type": "code",
   "execution_count": 61,
   "metadata": {},
   "outputs": [
    {
     "name": "stdout",
     "output_type": "stream",
     "text": [
      "[0, 3]\n",
      "[2, 6]\n",
      "[3, 4]\n",
      "[6, 9]\n"
     ]
    }
   ],
   "source": [
    "## Working ##\n",
    "\n",
    "i1 = [[0, 3], [2, 6], [3, 4], [6, 9]]\n",
    "\n",
    "for i in i1:\n",
    "    print(i)"
   ]
  },
  {
   "cell_type": "markdown",
   "metadata": {},
   "source": [
    "### 120\n",
    "\n",
    "Implement the singleton pattern with a twist. First, instead of storing one instance, store two instances. And in every even call of getInstance(), return the first instance and in every odd call of getInstance(), return the second instance."
   ]
  },
  {
   "cell_type": "code",
   "execution_count": null,
   "metadata": {},
   "outputs": [],
   "source": []
  },
  {
   "cell_type": "markdown",
   "metadata": {},
   "source": [
    "### 121\n",
    "\n",
    "Given a string which we can delete at most `k`, return whether you can make a palindrome.\n",
    "\n",
    "For example, given `'waterrfetawx'` and a `k` of 2, you could delete 'f' and 'x' to get `'waterretaw'`."
   ]
  },
  {
   "cell_type": "code",
   "execution_count": null,
   "metadata": {},
   "outputs": [],
   "source": []
  },
  {
   "cell_type": "markdown",
   "metadata": {},
   "source": [
    "### 122\n",
    "\n",
    "You are given a 2-d matrix where each cell represents number of coins in that cell. Assuming we start at matrix[0][0], and can only move right or down, find the maximum number of coins you can collect by the bottom right corner.\n",
    "\n",
    "For example, in this matrix\n",
    "\n",
    "```0 3 1 1\n",
    "2 0 0 4\n",
    "1 5 3 1```\n",
    "\n",
    "The most we can collect is 0 + 2 + 1 + 5 + 3 + 1 = 12 coins."
   ]
  },
  {
   "cell_type": "code",
   "execution_count": 12,
   "metadata": {},
   "outputs": [
    {
     "name": "stdout",
     "output_type": "stream",
     "text": [
      "()\n"
     ]
    }
   ],
   "source": [
    "## You have to evaluate all possible paths from (0,0) to (x,y), check their value sums, best one wins\n",
    "## But how?...\n",
    "\n",
    "## Total # of moves = (x-1)+(y-1)\n",
    "### Is there some obvious way to find out how many different combinations of X moves within Y matrix?\n",
    "\n",
    "## +1 to all y's and then +1 to all x's until we reach max(x) and max(y)\n",
    "## (0,0) -> (0,1) -> (0,2) -> (0,3) -> (1,3) -> (2,3) \n",
    "\n",
    "## +1 to all x's and then +1 to all y's until we reach max(x) and max(y)\n",
    "## (0,0) -> (1,0) -> (2,0) -> (2,1) -> (2,2) -> (2,3) \n",
    "\n",
    "## +1 to x and then +1 to y until we reach max(x) and max(y)\n",
    "## (0,0) -> (1,0) -> (1,1) -> (2,1) -> (2,2) -> (2,3)\n",
    "\n",
    "## +1 to y and then +1 to x until we reach max(x) and max(y)\n",
    "## (0,0) -> (0,1) -> (1,1) -> (1,2) -> (2,2) -> (2,3)\n",
    "\n",
    "\n",
    "## to account for larger n's:\n",
    "## you will have to iterate through patterns where you add +1 to (x-1) x values and then all y, then \n",
    "## +1 to (x-2), and so on with x's as well as y's\n",
    "## There has got to be simple algorith for this type of movement that you're just too dumb to know about\n",
    "\n",
    "\n",
    "\n",
    "\n",
    "import itertools\n",
    "mx = [[0, 3, 1, 1],\n",
    "[2, 0, 0, 4],\n",
    "[1, 5, 3, 1]]\n",
    "\n",
    "for combination in itertools.product(*mx):\n",
    "     print(combination)"
   ]
  },
  {
   "cell_type": "markdown",
   "metadata": {},
   "source": [
    "### 123 [DONE]\n",
    "\n",
    "Given a string, return whether it represents a number. Here are the different kinds of numbers:\n",
    "\n",
    " * `\"10\"`, a positive integer\n",
    " * `\"-10\"`, a negative integer\n",
    " * `\"10.1\"`, a positive real number\n",
    " * `\"-10.1\"`, a negative real number\n",
    " * `\"1e5\"`, a number in scientific notation\n",
    "\n",
    "And here are examples of non-numbers:\n",
    "\n",
    " * `\"a\"`\n",
    " * `\"x 1\"`\n",
    " * `\"a -2\"`\n",
    " * `\"-\"`\n"
   ]
  },
  {
   "cell_type": "code",
   "execution_count": 15,
   "metadata": {},
   "outputs": [
    {
     "data": {
      "text/plain": [
       "['\"10\" is a Number',\n",
       " '\"-10\" is a Number',\n",
       " '\"10.1\" is a Number',\n",
       " '\"-10.1\" is a Number',\n",
       " '\"1e5\" is a Number',\n",
       " '\"a\" is a Non-Number',\n",
       " '\"x 1\" is a Non-Number',\n",
       " '\"a -2\" is a Non-Number',\n",
       " '\"-\" is a Non-Number',\n",
       " '\"90.9\" is a Number',\n",
       " '\"104.9\" is a Number']"
      ]
     },
     "execution_count": 15,
     "metadata": {},
     "output_type": "execute_result"
    }
   ],
   "source": [
    "## DONE ##\n",
    "\n",
    "test_array = [\"10\", \"-10\", \"10.1\", \"-10.1\", \"1e5\", \"a\", \"x 1\", \"a -2\", \"-\", \"90.9\", \"104.9\"]\n",
    "\n",
    "def is_number(array):\n",
    "    res = []\n",
    "    for i in array:\n",
    "        try:\n",
    "            t = int(i)\n",
    "        except:\n",
    "            try:\n",
    "                t = float(i)\n",
    "            except:                \n",
    "                res += ['\"{}\" is a Non-Number'.format(i)]\n",
    "            else:                \n",
    "                res += ['\"{}\" is a Number'.format(i)]\n",
    "        else:            \n",
    "            res += ['\"{}\" is a Number'.format(i)]\n",
    "    return(res)\n",
    "        \n",
    "is_number(test_array)"
   ]
  },
  {
   "cell_type": "markdown",
   "metadata": {},
   "source": [
    "### 124\n",
    "\n",
    "You have `n` fair coins and you flip them all at the same time. Any that come up `tails` you set aside. The ones that come up `heads` you flip again. How many rounds do you expect to play before only one coin remains?\n",
    "\n",
    "Write a function that, given `n`, returns the number of rounds you'd expect to play until one coin remains."
   ]
  },
  {
   "cell_type": "code",
   "execution_count": null,
   "metadata": {},
   "outputs": [],
   "source": []
  },
  {
   "cell_type": "markdown",
   "metadata": {},
   "source": [
    "### 125\n",
    "\n",
    "Given the root of a binary search tree, and a target `K`, return two nodes in the tree whose sum equals `K`.\n",
    "\n",
    "For example, given the following tree and `K` of 20\n",
    "\n",
    " ```\n",
    "   10   \n",
    "  /   \\  \n",
    "5      15\n",
    "      /  \\      \n",
    "    11    15 ```\n",
    "    \n",
    "\n",
    "Return the nodes 5 and 15.\n"
   ]
  },
  {
   "cell_type": "code",
   "execution_count": null,
   "metadata": {},
   "outputs": [],
   "source": []
  },
  {
   "cell_type": "markdown",
   "metadata": {},
   "source": [
    "### 126\n",
    "\n",
    "Write a function that rotates a list by `k` elements.\n",
    "\n",
    "For example, `[1, 2, 3, 4, 5, 6]` rotated by two becomes `[3, 4, 5, 6, 1, 2]`. Try solving this without creating a copy of the list. How many swap or move operations do you need?"
   ]
  },
  {
   "cell_type": "code",
   "execution_count": null,
   "metadata": {},
   "outputs": [],
   "source": [
    "e1 = [1,2,3,4,5,6]\n",
    "\n",
    "k = 2\n",
    "\n"
   ]
  },
  {
   "cell_type": "markdown",
   "metadata": {},
   "source": [
    "### 127\n",
    "\n",
    "Let's represent an integer in a linked list format by having each node represent a digit in the number. The nodes make up the number in reversed order.\n",
    "\n",
    "For example, the following linked list:\n",
    "\n",
    "`1 -> 2 -> 3 -> 4 -> 5`\n",
    "\n",
    "is the number 54321.\n",
    "\n",
    "Given two linked lists in this format, return their sum in the same linked list format.\n",
    "\n",
    "For example, given\n",
    "\n",
    "`9 -> 9`\n",
    "\n",
    "`5 -> 2`\n",
    "\n",
    "return 124 (99 + 25) as:\n",
    "\n",
    "`4 -> 2 -> 1`\n"
   ]
  },
  {
   "cell_type": "code",
   "execution_count": null,
   "metadata": {},
   "outputs": [],
   "source": []
  },
  {
   "cell_type": "markdown",
   "metadata": {},
   "source": [
    "### 128\n",
    "\n",
    "The Tower of Hanoi is a puzzle game with three rods and `n` disks, each a different size.\n",
    "\n",
    "All the disks start off on the first rod in a stack. They are ordered by size, with the largest disk on the bottom and the smallest one at the top.\n",
    "\n",
    "The goal of this puzzle is to move all the disks from the first rod to the last rod while following these rules:\n",
    "\n",
    " * You can only move one disk at a time.\n",
    " * A move consists of taking the uppermost disk from one of the stacks and placing it on top of another stack.\n",
    " * You cannot place a larger disk on top of a smaller disk.\n",
    "\n",
    "Write a function that prints out all the steps necessary to complete the Tower of Hanoi. You should assume that the rods are numbered, with the first rod being 1, the second (auxiliary) rod being 2, and the last (goal) rod being 3.\n",
    "\n",
    "For example, with `n` = 3, we can do this in 7 moves:\n",
    "\n",
    "    Move 1 to 3\n",
    "\n",
    "    Move 1 to 2\n",
    "\n",
    "    Move 3 to 2\n",
    "\n",
    "    Move 1 to 3\n",
    "\n",
    "    Move 2 to 1\n",
    "\n",
    "    Move 2 to 3\n",
    "\n",
    "    Move 1 to 3\n"
   ]
  },
  {
   "cell_type": "code",
   "execution_count": null,
   "metadata": {},
   "outputs": [],
   "source": []
  },
  {
   "cell_type": "markdown",
   "metadata": {},
   "source": [
    "### 129 [DONE]\n",
    "\n",
    "Given a real number `n`, find the square root of `n`. For example, given `n` = 9, return 3."
   ]
  },
  {
   "cell_type": "code",
   "execution_count": 1,
   "metadata": {
    "scrolled": true
   },
   "outputs": [
    {
     "name": "stdout",
     "output_type": "stream",
     "text": [
      "3.0\n",
      "7.0\n",
      "100.44899203078147\n"
     ]
    }
   ],
   "source": [
    "## DONE ##\n",
    "\n",
    "# Am I insane or is this too easy?\n",
    "\n",
    "t1 = 9\n",
    "t2 = 49\n",
    "t3 = 10090\n",
    "\n",
    "def sqr(n):\n",
    "    sr = n**(1/2)\n",
    "    return(sr)\n",
    "\n",
    "for i in [t1,t2,t3]:\n",
    "    print(sqr(i))\n",
    "\n",
    "\n"
   ]
  },
  {
   "cell_type": "markdown",
   "metadata": {},
   "source": [
    "### 130\n",
    "\n",
    "Given an array of numbers representing the stock prices of a company in chronological order and an integer `k`, return the maximum profit you can make from `k` buys and sells. You must buy the stock before you can sell it, and you must sell the stock before you can buy it again.\n",
    "\n",
    "For example, given `k` = 2 and the array `[5, 2, 4, 0, 1]`, you should return 3."
   ]
  },
  {
   "cell_type": "code",
   "execution_count": null,
   "metadata": {},
   "outputs": [],
   "source": []
  },
  {
   "cell_type": "markdown",
   "metadata": {},
   "source": [
    "### 131\n",
    "\n",
    "Given the head to a singly linked list, where each node also has a “random” pointer that points to anywhere in the linked list, deep clone the list."
   ]
  },
  {
   "cell_type": "code",
   "execution_count": null,
   "metadata": {},
   "outputs": [],
   "source": []
  },
  {
   "cell_type": "markdown",
   "metadata": {},
   "source": [
    "### 132\n",
    "\n",
    "Design and implement a HitCounter class that keeps track of requests (or hits). It should support the following operations:\n",
    "\n",
    "* `record(timestamp)`: records a hit that happened at timestamp\n",
    "* `total()`: returns the total number of hits recorded\n",
    "* `range(lower, upper)`: returns the number of hits that occurred between timestamps lower and upper (inclusive)\n",
    "\n",
    "Follow-up: What if our system has limited memory?"
   ]
  },
  {
   "cell_type": "code",
   "execution_count": null,
   "metadata": {},
   "outputs": [],
   "source": []
  },
  {
   "cell_type": "markdown",
   "metadata": {},
   "source": [
    "### 133\n",
    "\n",
    "Given a `node` in a binary search tree, return the next bigger `element`, also known as the inorder successor.\n",
    "\n",
    "For example, the inorder successor of 22 is 30.\n",
    "\n",
    "```    \n",
    "       10\n",
    "      /  \\    \n",
    "    5    30    \n",
    "        /  \\      \n",
    "      22    35\n",
    "```\n",
    "\n",
    "You can assume each node has a `parent` pointer."
   ]
  },
  {
   "cell_type": "code",
   "execution_count": null,
   "metadata": {},
   "outputs": [],
   "source": []
  },
  {
   "cell_type": "markdown",
   "metadata": {},
   "source": [
    "### 134\n",
    "\n",
    "You have a large `array` with most of the elements as zero.\n",
    "\n",
    "Use a more space-efficient data structure, `SparseArray`, that implements the same interface:\n",
    "\n",
    "* `init(arr, size)`: initialize with the original large array and size.\n",
    "* `set(i, val)`: updates index at `i` with `val`.\n",
    "* `get(i)`: gets the value at index `i`.\n",
    "\n"
   ]
  },
  {
   "cell_type": "code",
   "execution_count": null,
   "metadata": {},
   "outputs": [],
   "source": []
  },
  {
   "cell_type": "markdown",
   "metadata": {},
   "source": [
    "### 135\n",
    "\n",
    "Given a binary tree, find a minimum path sum from root to a leaf.\n",
    "\n",
    "For example, the minimum path in this tree is `[10, 5, 1, -1]`, which has sum 15.\n",
    "\n",
    "```\n",
    "   10\n",
    "  /  \\\n",
    " 5    5\n",
    "  \\     \\\n",
    "   2    1\n",
    "       /\n",
    "     -1\n",
    "```"
   ]
  },
  {
   "cell_type": "code",
   "execution_count": null,
   "metadata": {},
   "outputs": [],
   "source": []
  },
  {
   "cell_type": "markdown",
   "metadata": {},
   "source": [
    "### 136\n",
    "\n",
    "Given an `N` by `M` matrix consisting only of 1's and 0's, find the largest rectangle containing only 1's and return its area.\n",
    "\n",
    "For example, given the following matrix:\n",
    "\n",
    "```\n",
    "[[1, 0, 0, 0],\n",
    " [1, 0, 1, 1],\n",
    " [1, 0, 1, 1],\n",
    " [0, 1, 0, 0]]\n",
    "\n",
    "```\n",
    "\n",
    "Returns 4."
   ]
  },
  {
   "cell_type": "code",
   "execution_count": null,
   "metadata": {},
   "outputs": [],
   "source": []
  },
  {
   "cell_type": "markdown",
   "metadata": {},
   "source": [
    "### 137\n",
    "\n",
    "Implement a bit array.\n",
    "\n",
    "A bit array is a space efficient array that holds a value of 1 or 0 at each index.\n",
    "\n",
    "* `init(size)`: initialize the array with size\n",
    "* `set(i, val)`: updates index at `i` with `val` where `val` is either 1 or 0.\n",
    "* `get(i)`: gets the value at index `i`.\n"
   ]
  },
  {
   "cell_type": "code",
   "execution_count": null,
   "metadata": {},
   "outputs": [],
   "source": []
  },
  {
   "cell_type": "markdown",
   "metadata": {},
   "source": [
    "### 138\n",
    "\n",
    "Find the minimum number of coins required to make `n` cents.\n",
    "\n",
    "You can use standard American denominations, that is, 1¢, 5¢, 10¢, and 25¢.\n",
    "\n",
    "For example, given `n` = 16, return 3 since we can make it with a 10¢, a 5¢, and a 1¢."
   ]
  },
  {
   "cell_type": "code",
   "execution_count": null,
   "metadata": {},
   "outputs": [],
   "source": []
  },
  {
   "cell_type": "markdown",
   "metadata": {},
   "source": [
    "### 139\n",
    "\n",
    "Given an `iterator` with methods `next()` and `hasNext()`, create a wrapper `iterator`, `PeekableInterface`, which also implements `peek()`. `peek` shows the next element that would be returned on `next()`.\n",
    "\n",
    "Here is the interface:\n",
    "\n",
    "```\n",
    "class PeekableInterface(object):\n",
    "    def __init__(self, iterator):\n",
    "        pass\n",
    "\n",
    "    def peek(self):\n",
    "        pass\n",
    "\n",
    "    def next(self):\n",
    "        pass\n",
    "\n",
    "    def hasNext(self):\n",
    "        pass\n",
    "```\n",
    "\n"
   ]
  },
  {
   "cell_type": "code",
   "execution_count": null,
   "metadata": {},
   "outputs": [],
   "source": []
  },
  {
   "cell_type": "markdown",
   "metadata": {},
   "source": [
    "### 140\n",
    "\n",
    "Given an `array` of integers in which two elements appear exactly once and all other elements appear exactly twice, find the two elements that appear only once.\n",
    "\n",
    "For example, given the array `[2, 4, 6, 8, 10, 2, 6, 10]`, return 4 and 8. The order does not matter.\n",
    "\n",
    "Follow-up: Can you do this in linear time and constant space?"
   ]
  },
  {
   "cell_type": "code",
   "execution_count": null,
   "metadata": {},
   "outputs": [],
   "source": []
  },
  {
   "cell_type": "markdown",
   "metadata": {},
   "source": [
    "### 141\n",
    "\n",
    "Implement 3 stacks using a single list:\n",
    "```\n",
    "class Stack:\n",
    "    def __init__(self):\n",
    "        self.list = []\n",
    "\n",
    "    def pop(self, stack_number):\n",
    "        pass\n",
    "\n",
    "    def push(self, item, stack_number):\n",
    "        pass\n",
    "```"
   ]
  },
  {
   "cell_type": "code",
   "execution_count": null,
   "metadata": {},
   "outputs": [],
   "source": []
  },
  {
   "cell_type": "markdown",
   "metadata": {},
   "source": [
    "### 142\n",
    "\n",
    "You're given a string consisting solely of `(`, `)`, and `*`. `*` can represent either a `(`, `)`, or an empty string. Determine whether the parentheses are balanced.\n",
    "\n",
    "For example, `(()*` and `(*)` are balanced. `)*(` is not balanced."
   ]
  },
  {
   "cell_type": "code",
   "execution_count": null,
   "metadata": {},
   "outputs": [],
   "source": []
  },
  {
   "cell_type": "markdown",
   "metadata": {},
   "source": [
    "### 143\n",
    "\n",
    "Given a pivot `x`, and a list `lst`, partition the list into three parts.\n",
    "\n",
    "* The first part contains all elements in `lst` that are less than `x`\n",
    "* The second part contains all elements in `lst` that are equal to `x`\n",
    "* The third part contains all elements in `lst` that are larger than `x`\n",
    "\n",
    "Ordering within a part can be arbitrary.\n",
    "\n",
    "For example, given `x = 10` and `lst = [9, 12, 3, 5, 14, 10, 10]`, one partition may be `[9, 3, 5, 10, 10, 12, 14]`."
   ]
  },
  {
   "cell_type": "code",
   "execution_count": null,
   "metadata": {},
   "outputs": [],
   "source": []
  },
  {
   "cell_type": "markdown",
   "metadata": {},
   "source": [
    "### 144\n",
    "\n",
    "Given an array of numbers and an index `i`, return the index of the nearest larger number of the number at index `i`, where distance is measured in array indices.\n",
    "\n",
    "For example, given `[4, 1, 3, 5, 6]` and index `0`, you should return `3`.\n",
    "\n",
    "If two distances to larger numbers are the equal, then return any one of them. If the array at `i` doesn't have a nearest larger integer, then return `null`.\n",
    "\n",
    "Follow-up: If you can preprocess the array, can you do this in constant time?"
   ]
  },
  {
   "cell_type": "code",
   "execution_count": null,
   "metadata": {},
   "outputs": [],
   "source": []
  }
 ],
 "metadata": {
  "kernelspec": {
   "display_name": "Python 3",
   "language": "python",
   "name": "python3"
  },
  "language_info": {
   "codemirror_mode": {
    "name": "ipython",
    "version": 3
   },
   "file_extension": ".py",
   "mimetype": "text/x-python",
   "name": "python",
   "nbconvert_exporter": "python",
   "pygments_lexer": "ipython3",
   "version": "3.6.5"
  }
 },
 "nbformat": 4,
 "nbformat_minor": 2
}
