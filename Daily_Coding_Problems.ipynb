{
 "cells": [
  {
   "cell_type": "markdown",
   "metadata": {},
   "source": [
    "### 96 [DONE]\n",
    "\n",
    "Given a number in the form of a list of digits, return all possible permutations.\n",
    "\n",
    "For example, given [1,2,3], return [[1,2,3],[1,3,2],[2,1,3],[2,3,1],[3,1,2],[3,2,1]]"
   ]
  },
  {
   "cell_type": "code",
   "execution_count": 54,
   "metadata": {},
   "outputs": [
    {
     "data": {
      "text/plain": [
       "[(7, 9, 2, 10, 24),\n",
       " (7, 9, 2, 24, 10),\n",
       " (7, 9, 10, 2, 24),\n",
       " (7, 9, 10, 24, 2),\n",
       " (7, 9, 24, 2, 10),\n",
       " (7, 9, 24, 10, 2),\n",
       " (7, 2, 9, 10, 24),\n",
       " (7, 2, 9, 24, 10),\n",
       " (7, 2, 10, 9, 24),\n",
       " (7, 2, 10, 24, 9),\n",
       " (7, 2, 24, 9, 10),\n",
       " (7, 2, 24, 10, 9),\n",
       " (7, 10, 9, 2, 24),\n",
       " (7, 10, 9, 24, 2),\n",
       " (7, 10, 2, 9, 24),\n",
       " (7, 10, 2, 24, 9),\n",
       " (7, 10, 24, 9, 2),\n",
       " (7, 10, 24, 2, 9),\n",
       " (7, 24, 9, 2, 10),\n",
       " (7, 24, 9, 10, 2),\n",
       " (7, 24, 2, 9, 10),\n",
       " (7, 24, 2, 10, 9),\n",
       " (7, 24, 10, 9, 2),\n",
       " (7, 24, 10, 2, 9),\n",
       " (9, 7, 2, 10, 24),\n",
       " (9, 7, 2, 24, 10),\n",
       " (9, 7, 10, 2, 24),\n",
       " (9, 7, 10, 24, 2),\n",
       " (9, 7, 24, 2, 10),\n",
       " (9, 7, 24, 10, 2),\n",
       " (9, 2, 7, 10, 24),\n",
       " (9, 2, 7, 24, 10),\n",
       " (9, 2, 10, 7, 24),\n",
       " (9, 2, 10, 24, 7),\n",
       " (9, 2, 24, 7, 10),\n",
       " (9, 2, 24, 10, 7),\n",
       " (9, 10, 7, 2, 24),\n",
       " (9, 10, 7, 24, 2),\n",
       " (9, 10, 2, 7, 24),\n",
       " (9, 10, 2, 24, 7),\n",
       " (9, 10, 24, 7, 2),\n",
       " (9, 10, 24, 2, 7),\n",
       " (9, 24, 7, 2, 10),\n",
       " (9, 24, 7, 10, 2),\n",
       " (9, 24, 2, 7, 10),\n",
       " (9, 24, 2, 10, 7),\n",
       " (9, 24, 10, 7, 2),\n",
       " (9, 24, 10, 2, 7),\n",
       " (2, 7, 9, 10, 24),\n",
       " (2, 7, 9, 24, 10),\n",
       " (2, 7, 10, 9, 24),\n",
       " (2, 7, 10, 24, 9),\n",
       " (2, 7, 24, 9, 10),\n",
       " (2, 7, 24, 10, 9),\n",
       " (2, 9, 7, 10, 24),\n",
       " (2, 9, 7, 24, 10),\n",
       " (2, 9, 10, 7, 24),\n",
       " (2, 9, 10, 24, 7),\n",
       " (2, 9, 24, 7, 10),\n",
       " (2, 9, 24, 10, 7),\n",
       " (2, 10, 7, 9, 24),\n",
       " (2, 10, 7, 24, 9),\n",
       " (2, 10, 9, 7, 24),\n",
       " (2, 10, 9, 24, 7),\n",
       " (2, 10, 24, 7, 9),\n",
       " (2, 10, 24, 9, 7),\n",
       " (2, 24, 7, 9, 10),\n",
       " (2, 24, 7, 10, 9),\n",
       " (2, 24, 9, 7, 10),\n",
       " (2, 24, 9, 10, 7),\n",
       " (2, 24, 10, 7, 9),\n",
       " (2, 24, 10, 9, 7),\n",
       " (10, 7, 9, 2, 24),\n",
       " (10, 7, 9, 24, 2),\n",
       " (10, 7, 2, 9, 24),\n",
       " (10, 7, 2, 24, 9),\n",
       " (10, 7, 24, 9, 2),\n",
       " (10, 7, 24, 2, 9),\n",
       " (10, 9, 7, 2, 24),\n",
       " (10, 9, 7, 24, 2),\n",
       " (10, 9, 2, 7, 24),\n",
       " (10, 9, 2, 24, 7),\n",
       " (10, 9, 24, 7, 2),\n",
       " (10, 9, 24, 2, 7),\n",
       " (10, 2, 7, 9, 24),\n",
       " (10, 2, 7, 24, 9),\n",
       " (10, 2, 9, 7, 24),\n",
       " (10, 2, 9, 24, 7),\n",
       " (10, 2, 24, 7, 9),\n",
       " (10, 2, 24, 9, 7),\n",
       " (10, 24, 7, 9, 2),\n",
       " (10, 24, 7, 2, 9),\n",
       " (10, 24, 9, 7, 2),\n",
       " (10, 24, 9, 2, 7),\n",
       " (10, 24, 2, 7, 9),\n",
       " (10, 24, 2, 9, 7),\n",
       " (24, 7, 9, 2, 10),\n",
       " (24, 7, 9, 10, 2),\n",
       " (24, 7, 2, 9, 10),\n",
       " (24, 7, 2, 10, 9),\n",
       " (24, 7, 10, 9, 2),\n",
       " (24, 7, 10, 2, 9),\n",
       " (24, 9, 7, 2, 10),\n",
       " (24, 9, 7, 10, 2),\n",
       " (24, 9, 2, 7, 10),\n",
       " (24, 9, 2, 10, 7),\n",
       " (24, 9, 10, 7, 2),\n",
       " (24, 9, 10, 2, 7),\n",
       " (24, 2, 7, 9, 10),\n",
       " (24, 2, 7, 10, 9),\n",
       " (24, 2, 9, 7, 10),\n",
       " (24, 2, 9, 10, 7),\n",
       " (24, 2, 10, 7, 9),\n",
       " (24, 2, 10, 9, 7),\n",
       " (24, 10, 7, 9, 2),\n",
       " (24, 10, 7, 2, 9),\n",
       " (24, 10, 9, 7, 2),\n",
       " (24, 10, 9, 2, 7),\n",
       " (24, 10, 2, 7, 9),\n",
       " (24, 10, 2, 9, 7)]"
      ]
     },
     "execution_count": 54,
     "metadata": {},
     "output_type": "execute_result"
    }
   ],
   "source": [
    "## DONE ##\n",
    "\n",
    "import itertools\n",
    "\n",
    "given = [1,2,3]\n",
    "given2 =[7,9,2,10,24]\n",
    "\n",
    "def poss_perms(given):\n",
    "    perms = itertools.permutations(given, len(given))\n",
    "    ret = []\n",
    "    for i in perms:\n",
    "        ret += [i]\n",
    "    return(ret)\n",
    "\n",
    "#poss_perms(given=given)\n",
    "poss_perms(given=given2)\n",
    "\n"
   ]
  },
  {
   "cell_type": "markdown",
   "metadata": {},
   "source": [
    "### 102 [DONE]\n",
    "\n",
    "Given a list of integers and a number K, return which contiguous elements of the list sum to K.\n",
    "\n",
    "For example, if the list is `[1, 2, 3, 4, 5]` and K is 9, then it should return `[2, 3, 4]`, since 2 + 3 + 4 = 9."
   ]
  },
  {
   "cell_type": "code",
   "execution_count": 34,
   "metadata": {},
   "outputs": [
    {
     "data": {
      "text/plain": [
       "[[1, 2, 3], [1, 2, 2, 1]]"
      ]
     },
     "execution_count": 34,
     "metadata": {},
     "output_type": "execute_result"
    }
   ],
   "source": [
    "## DONE ##\n",
    "\n",
    "intl = [1,2,3,4,5,6,1,2,2,1]\n",
    "\n",
    "k = 6\n",
    "\n",
    "def int_finder(int_list,k):\n",
    "    ret = []\n",
    "    for i in range(len(int_list)):\n",
    "        for t in range(len(int_list)):\n",
    "            if t<i:\n",
    "                continue\n",
    "            chk = int_list[i:t+1]\n",
    "            schk = sum(chk)\n",
    "            if schk == k:\n",
    "                if len(chk) > 1:\n",
    "                    ret += [chk]\n",
    "    return(ret)\n",
    "                \n",
    "            \n",
    "            \n",
    "            \n",
    "int_finder(intl, k)"
   ]
  },
  {
   "cell_type": "markdown",
   "metadata": {},
   "source": [
    "### 100 [DONE]\n",
    "\n",
    "You are in an infinite 2D grid where you can move in any of the 8 directions:\n",
    "\n",
    "``` (x,y) to\n",
    "    (x+1, y),\n",
    "    (x - 1, y),\n",
    "    (x, y+1),\n",
    "    (x, y-1),\n",
    "    (x-1, y-1),\n",
    "    (x+1,y+1),\n",
    "    (x-1,y+1),\n",
    "    (x+1,y-1) ```\n",
    "\n",
    "You are given a sequence of points and the order in which you need to cover the points. Give the minimum number of steps in which you can achieve it. You start from the first point.\n",
    "\n",
    "Example:\n",
    "\n",
    "```Input: [(0, 0), (1, 1), (1, 2)]\n",
    "Output: 2```\n",
    "\n",
    "It takes 1 step to move from (0, 0) to (1, 1). It takes one more step to move from (1, 1) to (1, 2).\n"
   ]
  },
  {
   "cell_type": "code",
   "execution_count": 48,
   "metadata": {},
   "outputs": [
    {
     "data": {
      "text/plain": [
       "2"
      ]
     },
     "execution_count": 48,
     "metadata": {},
     "output_type": "execute_result"
    }
   ],
   "source": [
    "## DONE ##\n",
    "\n",
    "in1 = [(0,0), (1,1), (1,2)]\n",
    "in2 = [(0,0), (1,1), (1,2), (3,5)]\n",
    "\n",
    "## Iterate through each item in the input list by 1, applying movement logic and assessing how many \"steps\"\n",
    "## are needed to get from one iteration to another\n",
    "\n",
    "def iter_steps(inp):\n",
    "    cnt = 0\n",
    "    for i in range(len(inp)-1):\n",
    "        x1 = inp[i][0]\n",
    "        y1 = inp[i][1]\n",
    "        \n",
    "        ## Now get to x2 and y2 and count how many \"steps\" it took\n",
    "        try:\n",
    "            x2 = inp[i+1][0]\n",
    "            y2 = inp[i+1][1]\n",
    "        except:\n",
    "            continue\n",
    "        else:\n",
    "            d_x = x2-x1\n",
    "            d_y = y2-y1\n",
    "            \n",
    "            if (d_x == -1 and d_y == -1) or (d_x == -1 and d_y == 0) or (d_x == -1 and d_y == 1) or (d_x == 0 and d_y == -1) or (d_x == 0 and d_y == 0) or (d_x == 0 and d_y == 1) or (d_x == 1 and d_y == -1) or (d_x == 1 and d_y == 0) or (d_x == 1 and d_y == 1):\n",
    "                cnt = cnt+1\n",
    "            else:\n",
    "                if d_x > d_y:\n",
    "                    cnt = cnt+d_x\n",
    "                elif d_y > d_x:\n",
    "                    cnt = cnt+d_y\n",
    "    return(cnt)\n",
    "            \n",
    "            \n",
    "        \n",
    "iter_steps(in1)\n"
   ]
  },
  {
   "cell_type": "markdown",
   "metadata": {},
   "source": [
    "### 103 [DONE]\n",
    "\n",
    "Given a string and a set of characters, return the shortest substring containing all the characters in the set.\n",
    "\n",
    "For example, given the string `\"figehaeci\"` and the set of characters `{a, e, i}`, you should return `\"aeci\"`.\n",
    "\n",
    "If there is no substring containing all the characters in the set, return null."
   ]
  },
  {
   "cell_type": "code",
   "execution_count": 83,
   "metadata": {},
   "outputs": [
    {
     "data": {
      "text/plain": [
       "'skwdfgldkw'"
      ]
     },
     "execution_count": 83,
     "metadata": {},
     "output_type": "execute_result"
    }
   ],
   "source": [
    "import re\n",
    "\n",
    "st1 = \"figehaeci\"\n",
    "chars = [\"a\", \"e\", \"i\"]\n",
    "\n",
    "st2 = \"iwjfllskwdfgldkw\"\n",
    "chars2 = [\"s\",\"f\",\"w\"]\n",
    "\n",
    "\n",
    "\n",
    "def find_letters(string, chars):            \n",
    "    sl = []            \n",
    "    for i in chars:\n",
    "        for t in range(len(string)):        \n",
    "            if string[t] == i:\n",
    "                if sl:\n",
    "                    if t < max(sl):\n",
    "                        continue\n",
    "            \n",
    "                sl += [t]                \n",
    "                break\n",
    "    return(string[min(sl):max(sl)+1])\n",
    "\n",
    "find_letters(st2, chars2)\n",
    "    \n"
   ]
  },
  {
   "cell_type": "markdown",
   "metadata": {},
   "source": [
    "### 104 [DONE]\n",
    "\n",
    "Determine whether a doubly linked list is a palindrome. What if it’s singly linked?\n",
    "\n",
    "For example, `1 -> 4 -> 3 -> 4 -> 1` returns `True` while `1 -> 4` returns `False`."
   ]
  },
  {
   "cell_type": "code",
   "execution_count": 13,
   "metadata": {},
   "outputs": [
    {
     "name": "stdout",
     "output_type": "stream",
     "text": [
      "True\n",
      "False\n",
      "False\n",
      "True\n"
     ]
    }
   ],
   "source": [
    "## DONE ##\n",
    "\n",
    "e1 = \"1 -> 4 -> 3 -> 4 -> 1\"\n",
    "e2 = \"1 -> 4\"\n",
    "e3 = \"1 -> 4 -> 3 -> 5 -> 4 -> 1\"\n",
    "e4 = \"1 -> 4 -> 8 -> 8 -> 4 -> 1\"\n",
    "\n",
    "\n",
    "def palindrome(linked_list):\n",
    "    bad = False   \n",
    "    setlist = linked_list.split(' -> ')\n",
    "    st_idx = 0\n",
    "    en_idx = len(setlist)-1\n",
    "\n",
    "    while st_idx <= en_idx:\n",
    "        chk_sum1 = setlist[st_idx]\n",
    "        chk_sum2 = setlist[en_idx]\n",
    "        if chk_sum1 == chk_sum2:            \n",
    "            st_idx = st_idx+1\n",
    "            en_idx = en_idx-1\n",
    "        else:            \n",
    "            bad = True\n",
    "            break\n",
    "    if bad:\n",
    "        return(False)\n",
    "    else:\n",
    "        return(True)\n",
    "\n",
    "\n",
    "    \n",
    "print(palindrome(e1))\n",
    "print(palindrome(e2))\n",
    "print(palindrome(e3))\n",
    "print(palindrome(e4))\n",
    "   "
   ]
  },
  {
   "cell_type": "markdown",
   "metadata": {},
   "source": [
    "### 109 [DONE]\n",
    "\n",
    "Given an unsigned 8-bit integer, swap its even and odd bits. The 1st and 2nd bit should be swapped, the 3rd and 4th bit should be swapped, and so on.\n",
    "\n",
    "For example, `10101010` should be `01010101`. `11100010` should be `11010001`.\n",
    "\n",
    "Bonus: Can you do this in one line?"
   ]
  },
  {
   "cell_type": "code",
   "execution_count": 32,
   "metadata": {},
   "outputs": [
    {
     "name": "stdout",
     "output_type": "stream",
     "text": [
      "\n"
     ]
    },
    {
     "data": {
      "text/plain": [
       "'01101010'"
      ]
     },
     "execution_count": 32,
     "metadata": {},
     "output_type": "execute_result"
    }
   ],
   "source": [
    "## DONE ##\n",
    "\n",
    "in1 = 10101010\n",
    "in2 = 11100010\n",
    "in3 = 10010101\n",
    "\n",
    "\n",
    "def DCP(integer):\n",
    "    inp = list(str(integer))\n",
    "    outp = list(str(99999999))\n",
    "    if len(inp) != 8:\n",
    "        print(\"This is not an 8-bit integer\")\n",
    "        return(None)\n",
    "    outp[0] = inp[1]    \n",
    "    outp[1] = inp[0]\n",
    "    outp[2] = inp[3]\n",
    "    outp[3] = inp[2]\n",
    "    outp[4] = inp[5]\n",
    "    outp[5] = inp[4]\n",
    "    outp[6] = inp[7]\n",
    "    outp[7] = inp[6]\n",
    "    outp = \"\".join(outp)\n",
    "    return(outp)\n",
    "\n",
    "DCP(in3)\n",
    "    \n",
    "    \n",
    "    \n",
    "    \n"
   ]
  },
  {
   "cell_type": "markdown",
   "metadata": {},
   "source": [
    "### 106 [DONE]\n",
    "\n",
    "Given an integer list where each number represents the number of hops you can make, determine whether you can reach to the last index starting at index 0.\n",
    "\n",
    "For example, `[2, 0, 1, 0]` returns True while `[1, 1, 0, 1]` returns `False`"
   ]
  },
  {
   "cell_type": "code",
   "execution_count": 45,
   "metadata": {},
   "outputs": [
    {
     "data": {
      "text/plain": [
       "False"
      ]
     },
     "execution_count": 45,
     "metadata": {},
     "output_type": "execute_result"
    }
   ],
   "source": [
    "## DONE ##\n",
    "\n",
    "il1 = [2,0,1,0]\n",
    "il2 = [1,1,0,1]\n",
    "il3 = [2,3,1,1,2,6,0] #intentionally works\n",
    "il4 = [2,3,4,3,0,1,9] #intentionally works\n",
    "il5 = [2,1] #intentionally doesn't work\n",
    "il6 = [1,9,3] #intentionally doesn't work\n",
    "\n",
    "\n",
    "def int_hop(inputlist):\n",
    "    end_idx = len(inputlist)-1\n",
    "    mv_idx = 0\n",
    "    while mv_idx < end_idx:\n",
    "        mv_idx_val = inputlist[mv_idx]\n",
    "        mv_idx = mv_idx + mv_idx_val\n",
    "        if mv_idx > end_idx:\n",
    "            return(False)\n",
    "        elif mv_idx_val == 0:\n",
    "            return(False)\n",
    "        elif mv_idx == end_idx:\n",
    "            return(True)\n",
    "        \n",
    "int_hop(il5)\n"
   ]
  },
  {
   "cell_type": "markdown",
   "metadata": {},
   "source": [
    "### 26 [DONE]\n",
    "\n",
    "Given a singly linked `list` and an integer `k`, remove the `k`th last element from the `list`. `k` is guaranteed to be smaller than the length of the list.\n",
    "\n",
    "The list is very long, so making more than one pass is prohibitively expensive.\n",
    "\n",
    "Do this in constant space and in one pass."
   ]
  },
  {
   "cell_type": "code",
   "execution_count": 46,
   "metadata": {},
   "outputs": [
    {
     "name": "stdout",
     "output_type": "stream",
     "text": [
      "[1, 2, 3, 4, 5, 6, 7]\n",
      "[1, 2, 3, 5, 6, 7]\n",
      "['1', '2', '3', '4', '5', '6', '7']\n",
      "['1', '2', '4', '5', '6', '7']\n"
     ]
    }
   ],
   "source": [
    "## DONE ##\n",
    "\n",
    "from random import randint\n",
    "\n",
    "lls = [1,2,3,4,5,6,7]\n",
    "lcs = [\"1\", \"2\", \"3\", \"4\", \"5\", \"6\", \"7\"]\n",
    "\n",
    "kl = randint(a=0, b=len(lls)-1)\n",
    "kc = randint(a=0, b=len(lcs)-1)\n",
    "\n",
    "def list_kill(input_list, k):\n",
    "    del input_list[k]\n",
    "    return(input_list)\n",
    "\n",
    "print(lls)\n",
    "print(list_kill(lls, kl))\n",
    "print(lcs)\n",
    "print(list_kill(lcs, kc))\n",
    "\n"
   ]
  },
  {
   "cell_type": "markdown",
   "metadata": {},
   "source": [
    "### 27\n",
    "\n",
    "Given a string of round, curly, and square open and closing brackets, return whether the brackets are balanced (well-formed).\n",
    "\n",
    "For example, given the string `\"([])[]({})\"`, you should return true.\n",
    "\n",
    "Given the string `\"([)]\"` or `\"((()\"`, you should return false."
   ]
  },
  {
   "cell_type": "code",
   "execution_count": null,
   "metadata": {},
   "outputs": [],
   "source": []
  },
  {
   "cell_type": "markdown",
   "metadata": {},
   "source": [
    "### 107\n",
    "\n",
    "Print the nodes in a binary tree level-wise. For example, the following should print `1, 2, 3, 4, 5`.\n",
    "\n",
    "`` `1\n",
    " / \\ \n",
    "2   3\n",
    "   / \\\n",
    "  4   5`\n"
   ]
  },
  {
   "cell_type": "code",
   "execution_count": null,
   "metadata": {},
   "outputs": [],
   "source": []
  },
  {
   "cell_type": "markdown",
   "metadata": {},
   "source": [
    "### 108\n",
    "\n",
    "Given two strings `A` and `B`, return whether or not `A` can be shifted some number of times to get `B`.\n",
    "\n",
    "For example, if `A` is `abcde` and `B` is `cdeab`, return `true`. If `A` is `abc` and B is `acb`, return `false`."
   ]
  },
  {
   "cell_type": "code",
   "execution_count": 2,
   "metadata": {},
   "outputs": [
    {
     "name": "stdout",
     "output_type": "stream",
     "text": [
      "Index: 0 | Value: a\n",
      "Index: 1 | Value: b\n",
      "Index: 2 | Value: c\n",
      "Index: 3 | Value: d\n",
      "Index: 4 | Value: e\n"
     ]
    }
   ],
   "source": [
    "A = 'abcde'\n",
    "B = 'cdeab'\n",
    "\n",
    "for idx,val in enumerate(A):\n",
    "    #print(\"Index: {} | Value: {}\".format(idx, val))\n",
    "    "
   ]
  },
  {
   "cell_type": "markdown",
   "metadata": {},
   "source": [
    "### 28\n",
    "\n",
    "Write an algorithm to justify text. Given a sequence of words and an integer line length `k`, return a list of strings which represents each line, fully justified.\n",
    "\n",
    "More specifically, you should have as many words as possible in each line. There should be at least one space between each word. Pad extra spaces when necessary so that each line has exactly length `k`. Spaces should be distributed as equally as possible, with the extra spaces, if any, distributed starting from the left.\n",
    "\n",
    "If you can only fit one word on a line, then you should pad the right-hand side with spaces.\n",
    "\n",
    "Each word is guaranteed not to be longer than `k`.\n",
    "\n",
    "For example, given the list of words `[\"the\", \"quick\", \"brown\", \"fox\", \"jumps\", \"over\", \"the\", \"lazy\", \"dog\"]` and `k` = 16, you should return the following:\n",
    "\n",
    "`[\"the  quick brown\", # 1 extra space on the left\n",
    "\"fox  jumps  over\", # 2 extra spaces distributed evenly\n",
    "\"the   lazy   dog\"] # 4 extra spaces distributed evenly`\n"
   ]
  },
  {
   "cell_type": "code",
   "execution_count": null,
   "metadata": {},
   "outputs": [],
   "source": []
  },
  {
   "cell_type": "markdown",
   "metadata": {},
   "source": [
    "### 31 [DONE]\n",
    "\n",
    "The edit distance between two strings refers to the minimum number of character insertions, deletions, and substitutions required to change one string to the other. For example, the edit distance between `“kitten”` and `“sitting”` is three: substitute the “k” for “s”, substitute the “e” for “i”, and append a “g”.\n",
    "\n",
    "Given two strings, compute the edit distance between them."
   ]
  },
  {
   "cell_type": "code",
   "execution_count": null,
   "metadata": {},
   "outputs": [],
   "source": [
    "## DONE ##\n",
    "\n",
    "s1 = \"kitten\"\n",
    "s2 = \"sitting\"\n",
    "\n",
    "\n",
    "def edit_dist(string_1, string_2):\n",
    "    match = []\n",
    "    over = []\n",
    "    \n",
    "    for i in enumerate(string_1):\n",
    "        try:\n",
    "            string_2[i[0]]\n",
    "        except:\n",
    "            over += [i[0]]\n",
    "            #continue\n",
    "        else:\n",
    "            if string_1[i[0]] == string_2[i[0]]:\n",
    "                match += [i[0]]\n",
    "\n",
    "    return(len(string_2)-len(match)+len(over))\n",
    "\n",
    "edit_dist(s1, s2)\n",
    "\n"
   ]
  },
  {
   "cell_type": "markdown",
   "metadata": {},
   "source": [
    "## 32\n",
    "\n",
    "Suppose you are given a table of currency exchange rates, represented as a 2D array. Determine whether there is a possible arbitrage: that is, whether there is some sequence of trades you can make, starting with some amount A of any currency, so that you can end up with some amount greater than A of that currency.\n",
    "\n",
    "There are no transaction costs and you can trade fractional quantities."
   ]
  },
  {
   "cell_type": "code",
   "execution_count": null,
   "metadata": {},
   "outputs": [],
   "source": []
  },
  {
   "cell_type": "markdown",
   "metadata": {},
   "source": [
    "### 33\n",
    "\n",
    "Compute the running median of a sequence of numbers. That is, given a stream of numbers, print out the median of the list so far on each new element.\n",
    "\n",
    "Recall that the median of an even-numbered list is the average of the two middle numbers.\n",
    "\n",
    "For example, given the sequence `[2, 1, 5, 7, 2, 0, 5]`, your algorithm should print out:\n",
    "\n",
    "`2\n",
    "1.5\n",
    "2\n",
    "3.5\n",
    "2\n",
    "2\n",
    "2`\n"
   ]
  },
  {
   "cell_type": "code",
   "execution_count": null,
   "metadata": {},
   "outputs": [],
   "source": []
  },
  {
   "cell_type": "markdown",
   "metadata": {},
   "source": [
    "### 34\n",
    "\n",
    "Given a string, find the palindrome that can be made by inserting the fewest number of characters as possible anywhere in the word. If there is more than one palindrome of minimum length that can be made, return the lexicographically earliest one (the first one alphabetically).\n",
    "\n",
    "For example, given the string \"race\", you should return \"ecarace\", since we can add three letters to it (which is the smallest amount to make a palindrome). There are seven other palindromes that can be made from \"race\" by adding three letters, but \"ecarace\" comes first alphabetically.\n",
    "\n",
    "As another example, given the string \"google\", you should return \"elgoogle\"."
   ]
  },
  {
   "cell_type": "code",
   "execution_count": null,
   "metadata": {},
   "outputs": [],
   "source": []
  },
  {
   "cell_type": "markdown",
   "metadata": {},
   "source": [
    "### 35\n",
    "\n",
    "Given an array of strictly the characters `'R'`, `'G'`, and `'B'`, segregate the values of the array so that all the `R`s come first, the `G`s come second, and the Bs come last. You can only swap elements of the array.\n",
    "\n",
    "Do this in linear time and in-place.\n",
    "\n",
    "For example, given the array `['G', 'B', 'R', 'R', 'B', 'R', 'G']`, it should become `['R', 'R', 'R', 'G', 'G', 'B', 'B']`."
   ]
  },
  {
   "cell_type": "code",
   "execution_count": null,
   "metadata": {},
   "outputs": [],
   "source": []
  },
  {
   "cell_type": "markdown",
   "metadata": {},
   "source": [
    "### 36\n",
    "\n",
    "Given the root to a binary search tree, find the second largest node in the tree."
   ]
  },
  {
   "cell_type": "code",
   "execution_count": null,
   "metadata": {},
   "outputs": [],
   "source": []
  },
  {
   "cell_type": "markdown",
   "metadata": {},
   "source": [
    "### 37\n",
    "\n",
    "The power set of a set is the set of all its subsets. Write a function that, given a set, generates its power set.\n",
    "\n",
    "For example, given the set `{1, 2, 3}`, it should return `{{}, {1}, {2}, {3}, {1, 2}, {1, 3}, {2, 3}, {1, 2, 3}}`.\n",
    "\n",
    "You may also use a list or array to represent a set."
   ]
  },
  {
   "cell_type": "code",
   "execution_count": null,
   "metadata": {},
   "outputs": [],
   "source": []
  },
  {
   "cell_type": "markdown",
   "metadata": {},
   "source": [
    "### 38\n",
    "\n",
    "You have an `N` by `N` board. Write a function that, given `N`, returns the number of possible arrangements of the board where `N` queens can be placed on the board without threatening each other, i.e. no two queens share the same row, column, or diagonal."
   ]
  },
  {
   "cell_type": "code",
   "execution_count": null,
   "metadata": {},
   "outputs": [],
   "source": []
  },
  {
   "cell_type": "markdown",
   "metadata": {},
   "source": [
    "### 39\n",
    "\n",
    "Conway's Game of Life takes place on an infinite two-dimensional board of square cells. Each cell is either dead or alive, and at each tick, the following rules apply:\n",
    "\n",
    "    Any live cell with less than two live neighbours dies.\n",
    "    Any live cell with two or three live neighbours remains living.\n",
    "    Any live cell with more than three live neighbours dies.\n",
    "    Any dead cell with exactly three live neighbours becomes a live cell.\n",
    "\n",
    "A cell neighbours another cell if it is horizontally, vertically, or diagonally adjacent.\n",
    "\n",
    "Implement Conway's Game of Life. It should be able to be initialized with a starting list of live cell coordinates and the number of steps it should run for. Once initialized, it should print out the board state at each step. Since it's an infinite board, print out only the relevant coordinates, i.e. from the top-leftmost live cell to bottom-rightmost live cell.\n",
    "\n",
    "You can represent a live cell with an asterisk (`*`) and a dead cell with a dot (`.`)."
   ]
  },
  {
   "cell_type": "code",
   "execution_count": null,
   "metadata": {},
   "outputs": [],
   "source": []
  },
  {
   "cell_type": "markdown",
   "metadata": {},
   "source": [
    "### 40\n",
    "\n",
    "Given an array of integers where every integer occurs three times except for one integer, which only occurs once, find and return the non-duplicated integer.\n",
    "\n",
    "For example, given `[6, 1, 3, 3, 3, 6, 6]`, return `1`. Given `[13, 19, 13, 13]`, return 19.\n",
    "\n",
    "Do this in O(N) time and O(1) space. (https://rob-bell.net/2009/06/a-beginners-guide-to-big-o-notation/)"
   ]
  },
  {
   "cell_type": "code",
   "execution_count": null,
   "metadata": {},
   "outputs": [],
   "source": []
  },
  {
   "cell_type": "markdown",
   "metadata": {},
   "source": [
    "### 41\n",
    "\n",
    "Given an unordered list of flights taken by someone, each represented as (origin, destination) pairs, and a starting airport, compute the person's itinerary. If no such itinerary exists, return null. If there are multiple possible itineraries, return the lexicographically smallest one. All flights must be used in the itinerary.\n",
    "\n",
    "For example, given the list of flights `[('SFO', 'HKO'), ('YYZ', 'SFO'), ('YUL', 'YYZ'), ('HKO', 'ORD')]` and starting airport 'YUL', you should return the list `['YUL', 'YYZ', 'SFO', 'HKO', 'ORD']`.\n",
    "\n",
    "Given the list of flights `[('SFO', 'COM'), ('COM', 'YYZ')]` and starting airport `'COM'`, you should return null.\n",
    "\n",
    "Given the list of flights `[('A', 'B'), ('A', 'C'), ('B', 'C'), ('C', 'A')]` and starting airport `'A'`, you should return the list `['A', 'B', 'C', 'A', 'C']` even though `['A', 'C', 'A', 'B', 'C']` is also a valid itinerary. However, the first one is lexicographically smaller."
   ]
  },
  {
   "cell_type": "code",
   "execution_count": null,
   "metadata": {},
   "outputs": [],
   "source": []
  },
  {
   "cell_type": "markdown",
   "metadata": {},
   "source": [
    "### 111\n",
    "\n",
    "Given a word `W` and a string `S`, find all starting indices in `S` which are anagrams of `W`.\n",
    "\n",
    "For example, given that `W` is `\"ab\"`, and `S` is `\"abxaba\"`, return `0`, `3`, and `4`."
   ]
  },
  {
   "cell_type": "code",
   "execution_count": null,
   "metadata": {},
   "outputs": [],
   "source": []
  }
 ],
 "metadata": {
  "kernelspec": {
   "display_name": "Python 3",
   "language": "python",
   "name": "python3"
  },
  "language_info": {
   "codemirror_mode": {
    "name": "ipython",
    "version": 3
   },
   "file_extension": ".py",
   "mimetype": "text/x-python",
   "name": "python",
   "nbconvert_exporter": "python",
   "pygments_lexer": "ipython3",
   "version": "3.6.5"
  }
 },
 "nbformat": 4,
 "nbformat_minor": 2
}
